{
  "nbformat": 4,
  "nbformat_minor": 0,
  "metadata": {
    "colab": {
      "name": "dabble6_keras.ipynb",
      "provenance": [],
      "authorship_tag": "ABX9TyOVF60rNWgMqmUK7JBYRDZ7",
      "include_colab_link": true
    },
    "kernelspec": {
      "name": "python3",
      "display_name": "Python 3"
    }
  },
  "cells": [
    {
      "cell_type": "markdown",
      "metadata": {
        "id": "view-in-github",
        "colab_type": "text"
      },
      "source": [
        "<a href=\"https://colab.research.google.com/github/ashishpatel0720/ml/blob/code/dabble6_keras.ipynb\" target=\"_parent\"><img src=\"https://colab.research.google.com/assets/colab-badge.svg\" alt=\"Open In Colab\"/></a>"
      ]
    },
    {
      "cell_type": "code",
      "metadata": {
        "id": "L2OV4j_xendp",
        "colab_type": "code",
        "colab": {
          "base_uri": "https://localhost:8080/",
          "height": 153
        },
        "outputId": "f7792f1f-c3cc-45dd-f6f5-86674de033c2"
      },
      "source": [
        "import numpy as np\n",
        "import pandas as pd\n",
        "from scipy import sparse\n",
        "\n",
        "from sklearn.pipeline import Pipeline, make_pipeline\n",
        "from sklearn.feature_extraction.text import TfidfVectorizer\n",
        "from sklearn.base import BaseEstimator, ClassifierMixin\n",
        "from sklearn.linear_model import LogisticRegression\n",
        "from sklearn.model_selection import cross_val_score\n",
        "from sklearn import metrics\n",
        "from sklearn.metrics import roc_auc_score\n",
        "\n",
        "from keras.preprocessing.text import Tokenizer\n",
        "from keras.preprocessing.sequence import pad_sequences\n",
        "from keras.layers import Dense, Input, LSTM, Embedding, Dropout, Activation, SpatialDropout1D, GRU\n",
        "from keras.layers import Bidirectional, GlobalAveragePooling1D, GlobalMaxPooling1D, concatenate\n",
        "from keras.models import Model\n",
        "from keras import initializers, regularizers, constraints, optimizers, layers\n",
        "from keras.utils import to_categorical\n",
        "from keras.callbacks import EarlyStopping, ModelCheckpoint\n",
        "\n",
        "import os\n",
        "import pandas as pd\n",
        "import numpy as np\n",
        "import sklearn \n",
        "import plotly.express as px\n",
        "import seaborn as sns\n",
        "from sklearn.model_selection import GridSearchCV\n",
        "from sklearn.linear_model import LogisticRegression\n",
        "from sklearn.svm import LinearSVC\n",
        "from sklearn.ensemble import GradientBoostingClassifier\n",
        "import matplotlib.pyplot as plt\n",
        "from sklearn.feature_selection import chi2\n",
        "from sklearn.feature_selection import SelectKBest, chi2\n",
        "\n",
        "base_path=\"./dabble6/\"\n",
        "data_path=base_path+\"data/\"\n",
        "print(os.listdir(data_path))\n",
        "\n",
        "pd.set_option('display.max_rows', 500)\n",
        "pd.set_option('display.max_columns', 500)\n",
        "pd.set_option('display.width', -1)\n",
        "pd.set_option('display.max_colwidth', -1)\n",
        "\n",
        "df_train=pd.read_csv(data_path+\"train_data.csv\")\n",
        "df_test=pd.read_csv(data_path+\"test_data.csv\")\n",
        "\n",
        "df_train = df_train.fillna(\"\")\n",
        "df_test=df_test.fillna(\"\") # can't drop from test_data as it will leave empty values in submit\n",
        "\n",
        "df=pd.concat([df_train,df_test], axis =0).reset_index(drop=True)\n",
        "\n",
        "\n",
        "vectType='TFIDF'\n",
        "df.head(2)\n",
        "\n",
        "\n",
        "%matplotlib inline"
      ],
      "execution_count": 27,
      "outputs": [
        {
          "output_type": "stream",
          "text": [
            "['processed', 'sample_submission.csv', 'test_data.csv', 'train_data.csv']\n"
          ],
          "name": "stdout"
        },
        {
          "output_type": "stream",
          "text": [
            "C:\\Program Files\\Anaconda3\\lib\\site-packages\\ipykernel_launcher.py:51: FutureWarning: Sorting because non-concatenation axis is not aligned. A future version\n",
            "of pandas will change to not sort by default.\n",
            "\n",
            "To accept the future behavior, pass 'sort=False'.\n",
            "\n",
            "To retain the current behavior and silence the warning, pass 'sort=True'.\n",
            "\n"
          ],
          "name": "stderr"
        }
      ]
    },
    {
      "cell_type": "code",
      "metadata": {
        "id": "VpBHGvtKkbdn",
        "colab_type": "code",
        "colab": {
          "base_uri": "https://localhost:8080/",
          "height": 34
        },
        "outputId": "2dd95186-d773-4719-f83d-4405bfd4547a"
      },
      "source": [
        "print(np.__version__,pd.__version__)"
      ],
      "execution_count": 19,
      "outputs": [
        {
          "output_type": "stream",
          "text": [
            "1.18.5 0.23.4\n"
          ],
          "name": "stdout"
        }
      ]
    },
    {
      "cell_type": "code",
      "metadata": {
        "id": "Ppo7bSrEkfg-",
        "colab_type": "code",
        "colab": {
          "base_uri": "https://localhost:8080/",
          "height": 34
        },
        "outputId": "884bd48b-7366-405e-c396-f787da088126"
      },
      "source": [
        "print(keras.__version__,tensorflow.__version__)"
      ],
      "execution_count": 20,
      "outputs": [
        {
          "output_type": "stream",
          "text": [
            "2.3.1 1.14.0\n"
          ],
          "name": "stdout"
        }
      ]
    },
    {
      "cell_type": "code",
      "metadata": {
        "id": "eSnCr330jnvr",
        "colab_type": "code",
        "colab": {
          "base_uri": "https://localhost:8080/",
          "height": 340
        },
        "outputId": "5bcfcfdc-ae61-424d-b86a-0cd2d4179f52"
      },
      "source": [
        "df.drop(['reviewer_id'],axis = 1, inplace=True)\n",
        "df.head()"
      ],
      "execution_count": 16,
      "outputs": [
        {
          "output_type": "execute_result",
          "data": {
            "text/plain": [
              "   key  \\\n",
              "0  0     \n",
              "1  1     \n",
              "2  2     \n",
              "3  3     \n",
              "4  4     \n",
              "\n",
              "   label  \\\n",
              "0  5.0     \n",
              "1  3.0     \n",
              "2  5.0     \n",
              "3  3.0     \n",
              "4  1.0     \n",
              "\n",
              "                         product_id  \\\n",
              "0  2f3f32df46c949fd84a8a4a0c1b902c2   \n",
              "1  b6c7faacaada4de3a007d1bca3e7efe3   \n",
              "2  68ddd444a0954bb6888e599896fc8f5a   \n",
              "3  c19cf51ef3094c9d834fcf9493a0ef08   \n",
              "4  f408b57d15dc4364873617931679de3a   \n",
              "\n",
              "                                                                          review_summary  \\\n",
              "0  Five Stars                                                                              \n",
              "1  Close but no cigar                                                                      \n",
              "2  beautiful realistic graphic                                                             \n",
              "3  Three Stars                                                                             \n",
              "4  The newer model 1260 gloves are no match to older model 1260, very, very poor quality   \n",
              "\n",
              "                                                                                                                                                                                                                                                                                                                                                                                                                                                                                                                                                                                                                                                                                                                                                                                                                                                                                                                                                                                                                                                                                                                                                                                             review_text  \n",
              "0  Good fun.                                                                                                                                                                                                                                                                                                                                                                                                                                                                                                                                                                                                                                                                                                                                                                                                                                                                                                                                                                                                                                                                                                                                                                                              \n",
              "1  This is a a great kit and has most of what you need. However the platic in my inside came warped, and the handle lock in so firmly you have to yank them to get them out.                                                                                                                                                                                                                                                                                                                                                                                                                                                                                                                                                                                                                                                                                                                                                                                                                                                                                                                                                                                                                              \n",
              "2  i've purchased several of these beaded bookmarks with different images.  This is a realistic horse, which is important to me.  Price is right.  Comes in a protective plastic sleeve to keep it from bending in shipment.  Will buy more as stocking stuffers.                                                                                                                                                                                                                                                                                                                                                                                                                                                                                                                                                                                                                                                                                                                                                                                                                                                                                                                                         \n",
              "3  ok                                                                                                                                                                                                                                                                                                                                                                                                                                                                                                                                                                                                                                                                                                                                                                                                                                                                                                                                                                                                                                                                                                                                                                                                     \n",
              "4  I purchased my first pair of Harbinger 1260 gloves in 2009 (they had a very high rating which is still carrying over for the bad reviews to have an impact so beware) and used them 2-3 times a week now for 6 years. These were very heavy duty gloves. Out of the box I was very pleased with the quality, they were well made.  With the usage I had no problems and they showed very little wear.  I recently lost one of the gloves and re-ordered the same model number and size.  I was very surprised when the new gloves came and I compared them to my remaining glove. This newer glove is about an inch smaller in length, and in size...about a half a size smaller,much thinner padding, poor stitching and lacked the reinforcements of the earlier glove, it was more of a poorly made bicycle glove.  The fingers were much shorter.  On the first set of dumbbell curls (about 4 hours after receiving them) the side of the glove split along the leather(?) and fabric seam for about 11/4 inches.  I have returned them to amazon.  I am now desperately looking for the lost glove.  Harbinger needs to change the model number and reduce the price on these to less than $10.  "
            ],
            "text/html": [
              "<div>\n",
              "<style scoped>\n",
              "    .dataframe tbody tr th:only-of-type {\n",
              "        vertical-align: middle;\n",
              "    }\n",
              "\n",
              "    .dataframe tbody tr th {\n",
              "        vertical-align: top;\n",
              "    }\n",
              "\n",
              "    .dataframe thead th {\n",
              "        text-align: right;\n",
              "    }\n",
              "</style>\n",
              "<table border=\"1\" class=\"dataframe\">\n",
              "  <thead>\n",
              "    <tr style=\"text-align: right;\">\n",
              "      <th></th>\n",
              "      <th>key</th>\n",
              "      <th>label</th>\n",
              "      <th>product_id</th>\n",
              "      <th>review_summary</th>\n",
              "      <th>review_text</th>\n",
              "    </tr>\n",
              "  </thead>\n",
              "  <tbody>\n",
              "    <tr>\n",
              "      <th>0</th>\n",
              "      <td>0</td>\n",
              "      <td>5.0</td>\n",
              "      <td>2f3f32df46c949fd84a8a4a0c1b902c2</td>\n",
              "      <td>Five Stars</td>\n",
              "      <td>Good fun.</td>\n",
              "    </tr>\n",
              "    <tr>\n",
              "      <th>1</th>\n",
              "      <td>1</td>\n",
              "      <td>3.0</td>\n",
              "      <td>b6c7faacaada4de3a007d1bca3e7efe3</td>\n",
              "      <td>Close but no cigar</td>\n",
              "      <td>This is a a great kit and has most of what you need. However the platic in my inside came warped, and the handle lock in so firmly you have to yank them to get them out.</td>\n",
              "    </tr>\n",
              "    <tr>\n",
              "      <th>2</th>\n",
              "      <td>2</td>\n",
              "      <td>5.0</td>\n",
              "      <td>68ddd444a0954bb6888e599896fc8f5a</td>\n",
              "      <td>beautiful realistic graphic</td>\n",
              "      <td>i've purchased several of these beaded bookmarks with different images.  This is a realistic horse, which is important to me.  Price is right.  Comes in a protective plastic sleeve to keep it from bending in shipment.  Will buy more as stocking stuffers.</td>\n",
              "    </tr>\n",
              "    <tr>\n",
              "      <th>3</th>\n",
              "      <td>3</td>\n",
              "      <td>3.0</td>\n",
              "      <td>c19cf51ef3094c9d834fcf9493a0ef08</td>\n",
              "      <td>Three Stars</td>\n",
              "      <td>ok</td>\n",
              "    </tr>\n",
              "    <tr>\n",
              "      <th>4</th>\n",
              "      <td>4</td>\n",
              "      <td>1.0</td>\n",
              "      <td>f408b57d15dc4364873617931679de3a</td>\n",
              "      <td>The newer model 1260 gloves are no match to older model 1260, very, very poor quality</td>\n",
              "      <td>I purchased my first pair of Harbinger 1260 gloves in 2009 (they had a very high rating which is still carrying over for the bad reviews to have an impact so beware) and used them 2-3 times a week now for 6 years. These were very heavy duty gloves. Out of the box I was very pleased with the quality, they were well made.  With the usage I had no problems and they showed very little wear.  I recently lost one of the gloves and re-ordered the same model number and size.  I was very surprised when the new gloves came and I compared them to my remaining glove. This newer glove is about an inch smaller in length, and in size...about a half a size smaller,much thinner padding, poor stitching and lacked the reinforcements of the earlier glove, it was more of a poorly made bicycle glove.  The fingers were much shorter.  On the first set of dumbbell curls (about 4 hours after receiving them) the side of the glove split along the leather(?) and fabric seam for about 11/4 inches.  I have returned them to amazon.  I am now desperately looking for the lost glove.  Harbinger needs to change the model number and reduce the price on these to less than $10.</td>\n",
              "    </tr>\n",
              "  </tbody>\n",
              "</table>\n",
              "</div>"
            ]
          },
          "metadata": {
            "tags": []
          },
          "execution_count": 16
        }
      ]
    },
    {
      "cell_type": "code",
      "metadata": {
        "id": "kgsEp4Uhezwg",
        "colab_type": "code",
        "colab": {
          "base_uri": "https://localhost:8080/",
          "height": 374
        },
        "outputId": "52a18b6e-3d57-4a73-cb90-d83ade77fcf4"
      },
      "source": [
        "df['review']=df.review_summary+' '+df.review_text # TODO: we can also include productID\n",
        "# df.drop(['review_summary', 'review_text'], axis=1,inplace=True)\n",
        "pd.DataFrame(df[\"review\"]).tail()"
      ],
      "execution_count": 17,
      "outputs": [
        {
          "output_type": "execute_result",
          "data": {
            "text/plain": [
              "                                                                                                                                                                                                                                                                                                                                                                                                                                                                                                                                                                                                                                                                                                                                                                                                                                                                                                                                                                                                                                                                                                                                                                                                                                                                                                                                                                                                                                                                                                                                                                                                             review\n",
              "49994  Have to work with awhile Although I have an older version of this B&D work bench, I do have to say at this point that I like the way the bench part is on the older version verses this one. Kind of on the light side.....in my opinion. I do like the feature to where you can flip the bench up on one side in order to hold a larger product. I'll just have to see how it works out over time. Just seems to me it's not set up as well, (as far as heavy duty) as the older one is.                                                                                                                                                                                                                                                                                                                                                                                                                                                                                                                                                                                                                                                                                                                                                                                                                                                                                                                                                                                                                                                                                                                   \n",
              "49995  HUGE Storage Case but Here's Why... Other reviewers accurately reflect my favorable opinion of this random orbit sander but I did get a surprise when the item arrived:  the storage case is HUGE!  When purchasing the kit version of this sander you get the vacuum hose and, yep, a storage case designed to hold the sander and all of the dust collection components--including the hose.  It is a monster-sized box.\\n\\n\"Buy\" the way, Amazon would NOT match woodworker.com's lower price on the PC 97355.  The problem I had when I called to get the price match was that the person with Amazon's Tool Crib department pretended to be a klutz with web surfing and was unable to even locate the 97355 on woodworker.com's website (I finally had to give her the URL) and then she pretended to be unable to figure out that woodworker.com would provide free shipping if you had come to their site using the URL provided thru toolseeker.com (as I had).  Bottom line:  Amazon wouldn't price match.  Result:  I bought from woodworker.com who not only saved me significant bucks but also shipped the product the very same day!  My recent experiences (read that more than one) with Amazon's \"SuperSaver\" shipping (their version of free shipping) have been a 5 - 7 day DELAY on shipping of products listed as \"Usually Ships within 24 hours\".  When I questioned Amazon about this they defended this practice as their way to save money.  My advice:  Go to woodworker.com and save yourself even more money and get your stuff shipped the same day instead of one week later.\n",
              "49996  Common to Turn White - Don't Buy It. You'll be Disappointed. I spent 4 weeks and $1500 materials installing beautiful travertine stone tile. Spent $25 on Polyblend grout. Followed ALL instructions on their website, on the bag and on Youtube videos, but it still turned white when it dried.  Used exact water amount specified by the manufacturer.  I used an accurate  scale to get the 1/6 ratio correct.  Wrung sponges out nearly dry. The white is callled efflorescence.  You can tell you have it if you wet the dry grout and it turns the intended color. A tile setter told me this is common with Polyblend and recommended I use brands that are sold at tile stores, not in big orange box store. From tile forums, I see that others have same problem with PolyBlend.  I've tried full strength strong chemical recommended for efflorescence on travertine (Skavenja, it's a base rather than an acid because travertine is susceptible to acid).  It turned grayish off-white but not the Butter Cream color intended.  I would have gladly paid 4x higher to avoid this problem. I hope this review can save you from the trouble I had with PolyBlend.  Don't use it until PolyBlend figures out what chemistry problem causes their product to be so much more susceptible to efflorescence.  When they do figure it out, hopefully they'll say new and improved to prevent efflorescence.                                                                                                                                                                                       \n",
              "49997  Cannot Figure it Out Have no idea how to play this game - the directions don't make sense to us.                                                                                                                                                                                                                                                                                                                                                                                                                                                                                                                                                                                                                                                                                                                                                                                                                                                                                                                                                                                                                                                                                                                                                                                                                                                                                                                                                                                                                                                                                                            \n",
              "49998  Great bulbs, great price Great bulbs, great price, for replacing those costly light bulbs that like to burn out all the time, Have had them working a few months and good so far                                                                                                                                                                                                                                                                                                                                                                                                                                                                                                                                                                                                                                                                                                                                                                                                                                                                                                                                                                                                                                                                                                                                                                                                                                                                                                                                                                                                                            "
            ],
            "text/html": [
              "<div>\n",
              "<style scoped>\n",
              "    .dataframe tbody tr th:only-of-type {\n",
              "        vertical-align: middle;\n",
              "    }\n",
              "\n",
              "    .dataframe tbody tr th {\n",
              "        vertical-align: top;\n",
              "    }\n",
              "\n",
              "    .dataframe thead th {\n",
              "        text-align: right;\n",
              "    }\n",
              "</style>\n",
              "<table border=\"1\" class=\"dataframe\">\n",
              "  <thead>\n",
              "    <tr style=\"text-align: right;\">\n",
              "      <th></th>\n",
              "      <th>review</th>\n",
              "    </tr>\n",
              "  </thead>\n",
              "  <tbody>\n",
              "    <tr>\n",
              "      <th>49994</th>\n",
              "      <td>Have to work with awhile Although I have an older version of this B&amp;D work bench, I do have to say at this point that I like the way the bench part is on the older version verses this one. Kind of on the light side.....in my opinion. I do like the feature to where you can flip the bench up on one side in order to hold a larger product. I'll just have to see how it works out over time. Just seems to me it's not set up as well, (as far as heavy duty) as the older one is.</td>\n",
              "    </tr>\n",
              "    <tr>\n",
              "      <th>49995</th>\n",
              "      <td>HUGE Storage Case but Here's Why... Other reviewers accurately reflect my favorable opinion of this random orbit sander but I did get a surprise when the item arrived:  the storage case is HUGE!  When purchasing the kit version of this sander you get the vacuum hose and, yep, a storage case designed to hold the sander and all of the dust collection components--including the hose.  It is a monster-sized box.\\n\\n\"Buy\" the way, Amazon would NOT match woodworker.com's lower price on the PC 97355.  The problem I had when I called to get the price match was that the person with Amazon's Tool Crib department pretended to be a klutz with web surfing and was unable to even locate the 97355 on woodworker.com's website (I finally had to give her the URL) and then she pretended to be unable to figure out that woodworker.com would provide free shipping if you had come to their site using the URL provided thru toolseeker.com (as I had).  Bottom line:  Amazon wouldn't price match.  Result:  I bought from woodworker.com who not only saved me significant bucks but also shipped the product the very same day!  My recent experiences (read that more than one) with Amazon's \"SuperSaver\" shipping (their version of free shipping) have been a 5 - 7 day DELAY on shipping of products listed as \"Usually Ships within 24 hours\".  When I questioned Amazon about this they defended this practice as their way to save money.  My advice:  Go to woodworker.com and save yourself even more money and get your stuff shipped the same day instead of one week later.</td>\n",
              "    </tr>\n",
              "    <tr>\n",
              "      <th>49996</th>\n",
              "      <td>Common to Turn White - Don't Buy It. You'll be Disappointed. I spent 4 weeks and $1500 materials installing beautiful travertine stone tile. Spent $25 on Polyblend grout. Followed ALL instructions on their website, on the bag and on Youtube videos, but it still turned white when it dried.  Used exact water amount specified by the manufacturer.  I used an accurate  scale to get the 1/6 ratio correct.  Wrung sponges out nearly dry. The white is callled efflorescence.  You can tell you have it if you wet the dry grout and it turns the intended color. A tile setter told me this is common with Polyblend and recommended I use brands that are sold at tile stores, not in big orange box store. From tile forums, I see that others have same problem with PolyBlend.  I've tried full strength strong chemical recommended for efflorescence on travertine (Skavenja, it's a base rather than an acid because travertine is susceptible to acid).  It turned grayish off-white but not the Butter Cream color intended.  I would have gladly paid 4x higher to avoid this problem. I hope this review can save you from the trouble I had with PolyBlend.  Don't use it until PolyBlend figures out what chemistry problem causes their product to be so much more susceptible to efflorescence.  When they do figure it out, hopefully they'll say new and improved to prevent efflorescence.</td>\n",
              "    </tr>\n",
              "    <tr>\n",
              "      <th>49997</th>\n",
              "      <td>Cannot Figure it Out Have no idea how to play this game - the directions don't make sense to us.</td>\n",
              "    </tr>\n",
              "    <tr>\n",
              "      <th>49998</th>\n",
              "      <td>Great bulbs, great price Great bulbs, great price, for replacing those costly light bulbs that like to burn out all the time, Have had them working a few months and good so far</td>\n",
              "    </tr>\n",
              "  </tbody>\n",
              "</table>\n",
              "</div>"
            ]
          },
          "metadata": {
            "tags": []
          },
          "execution_count": 17
        }
      ]
    },
    {
      "cell_type": "code",
      "metadata": {
        "id": "CRa2HJENfY2W",
        "colab_type": "code",
        "colab": {
          "base_uri": "https://localhost:8080/",
          "height": 374
        },
        "outputId": "d4b54771-e536-4ba1-d73d-3e466fc21a0c"
      },
      "source": [
        "# Replace punctuation,numbers etc. ( may be important ) TODO: can we check without these\n",
        "df[\"review\"] = df[\"review\"].replace('[^a-zA-Z]+', ' ', regex=True)\n",
        "df[\"review\"] = df[\"review\"].replace(r\"\\b[a-zA-Z0-9]\\b\", '', regex=True) # remove single letter words\n",
        "\n",
        "pd.DataFrame(df[\"review\"]).tail()"
      ],
      "execution_count": 18,
      "outputs": [
        {
          "output_type": "execute_result",
          "data": {
            "text/plain": [
              "                                                                                                                                                                                                                                                                                                                                                                                                                                                                                                                                                                                                                                                                                                                                                                                                                                                                                                                                                                                                                                                                                                                                                                                                                                                                                                                                                                                                                                                                                                                     review\n",
              "49994  Have to work with awhile Although  have an older version of this   work bench  do have to say at this point that  like the way the bench part is on the older version verses this one Kind of on the light side in my opinion  do like the feature to where you can flip the bench up on one side in order to hold  larger product  ll just have to see how it works out over time Just seems to me it  not set up as well as far as heavy duty as the older one is                                                                                                                                                                                                                                                                                                                                                                                                                                                                                                                                                                                                                                                                                                                                                                                                                                                                                                                                                                                                                                                 \n",
              "49995  HUGE Storage Case but Here  Why Other reviewers accurately reflect my favorable opinion of this random orbit sander but  did get  surprise when the item arrived the storage case is HUGE When purchasing the kit version of this sander you get the vacuum hose and yep  storage case designed to hold the sander and all of the dust collection components including the hose It is  monster sized box Buy the way Amazon would NOT match woodworker com  lower price on the PC The problem  had when  called to get the price match was that the person with Amazon  Tool Crib department pretended to be  klutz with web surfing and was unable to even locate the on woodworker com  website  finally had to give her the URL and then she pretended to be unable to figure out that woodworker com would provide free shipping if you had come to their site using the URL provided thru toolseeker com as  had Bottom line Amazon wouldn  price match Result  bought from woodworker com who not only saved me significant bucks but also shipped the product the very same day My recent experiences read that more than one with Amazon  SuperSaver shipping their version of free shipping have been  day DELAY on shipping of products listed as Usually Ships within hours When  questioned Amazon about this they defended this practice as their way to save money My advice Go to woodworker com and save yourself even more money and get your stuff shipped the same day instead of one week later \n",
              "49996  Common to Turn White Don  Buy It You ll be Disappointed  spent weeks and materials installing beautiful travertine stone tile Spent on Polyblend grout Followed ALL instructions on their website on the bag and on Youtube videos but it still turned white when it dried Used exact water amount specified by the manufacturer  used an accurate scale to get the ratio correct Wrung sponges out nearly dry The white is callled efflorescence You can tell you have it if you wet the dry grout and it turns the intended color  tile setter told me this is common with Polyblend and recommended  use brands that are sold at tile stores not in big orange box store From tile forums  see that others have same problem with PolyBlend  ve tried full strength strong chemical recommended for efflorescence on travertine Skavenja it   base rather than an acid because travertine is susceptible to acid It turned grayish off white but not the Butter Cream color intended  would have gladly paid  higher to avoid this problem  hope this review can save you from the trouble  had with PolyBlend Don  use it until PolyBlend figures out what chemistry problem causes their product to be so much more susceptible to efflorescence When they do figure it out hopefully they ll say new and improved to prevent efflorescence                                                                                                                                                                    \n",
              "49997  Cannot Figure it Out Have no idea how to play this game the directions don  make sense to us                                                                                                                                                                                                                                                                                                                                                                                                                                                                                                                                                                                                                                                                                                                                                                                                                                                                                                                                                                                                                                                                                                                                                                                                                                                                                                                                                                                                                        \n",
              "49998  Great bulbs great price Great bulbs great price for replacing those costly light bulbs that like to burn out all the time Have had them working  few months and good so far                                                                                                                                                                                                                                                                                                                                                                                                                                                                                                                                                                                                                                                                                                                                                                                                                                                                                                                                                                                                                                                                                                                                                                                                                                                                                                                                         "
            ],
            "text/html": [
              "<div>\n",
              "<style scoped>\n",
              "    .dataframe tbody tr th:only-of-type {\n",
              "        vertical-align: middle;\n",
              "    }\n",
              "\n",
              "    .dataframe tbody tr th {\n",
              "        vertical-align: top;\n",
              "    }\n",
              "\n",
              "    .dataframe thead th {\n",
              "        text-align: right;\n",
              "    }\n",
              "</style>\n",
              "<table border=\"1\" class=\"dataframe\">\n",
              "  <thead>\n",
              "    <tr style=\"text-align: right;\">\n",
              "      <th></th>\n",
              "      <th>review</th>\n",
              "    </tr>\n",
              "  </thead>\n",
              "  <tbody>\n",
              "    <tr>\n",
              "      <th>49994</th>\n",
              "      <td>Have to work with awhile Although  have an older version of this   work bench  do have to say at this point that  like the way the bench part is on the older version verses this one Kind of on the light side in my opinion  do like the feature to where you can flip the bench up on one side in order to hold  larger product  ll just have to see how it works out over time Just seems to me it  not set up as well as far as heavy duty as the older one is</td>\n",
              "    </tr>\n",
              "    <tr>\n",
              "      <th>49995</th>\n",
              "      <td>HUGE Storage Case but Here  Why Other reviewers accurately reflect my favorable opinion of this random orbit sander but  did get  surprise when the item arrived the storage case is HUGE When purchasing the kit version of this sander you get the vacuum hose and yep  storage case designed to hold the sander and all of the dust collection components including the hose It is  monster sized box Buy the way Amazon would NOT match woodworker com  lower price on the PC The problem  had when  called to get the price match was that the person with Amazon  Tool Crib department pretended to be  klutz with web surfing and was unable to even locate the on woodworker com  website  finally had to give her the URL and then she pretended to be unable to figure out that woodworker com would provide free shipping if you had come to their site using the URL provided thru toolseeker com as  had Bottom line Amazon wouldn  price match Result  bought from woodworker com who not only saved me significant bucks but also shipped the product the very same day My recent experiences read that more than one with Amazon  SuperSaver shipping their version of free shipping have been  day DELAY on shipping of products listed as Usually Ships within hours When  questioned Amazon about this they defended this practice as their way to save money My advice Go to woodworker com and save yourself even more money and get your stuff shipped the same day instead of one week later</td>\n",
              "    </tr>\n",
              "    <tr>\n",
              "      <th>49996</th>\n",
              "      <td>Common to Turn White Don  Buy It You ll be Disappointed  spent weeks and materials installing beautiful travertine stone tile Spent on Polyblend grout Followed ALL instructions on their website on the bag and on Youtube videos but it still turned white when it dried Used exact water amount specified by the manufacturer  used an accurate scale to get the ratio correct Wrung sponges out nearly dry The white is callled efflorescence You can tell you have it if you wet the dry grout and it turns the intended color  tile setter told me this is common with Polyblend and recommended  use brands that are sold at tile stores not in big orange box store From tile forums  see that others have same problem with PolyBlend  ve tried full strength strong chemical recommended for efflorescence on travertine Skavenja it   base rather than an acid because travertine is susceptible to acid It turned grayish off white but not the Butter Cream color intended  would have gladly paid  higher to avoid this problem  hope this review can save you from the trouble  had with PolyBlend Don  use it until PolyBlend figures out what chemistry problem causes their product to be so much more susceptible to efflorescence When they do figure it out hopefully they ll say new and improved to prevent efflorescence</td>\n",
              "    </tr>\n",
              "    <tr>\n",
              "      <th>49997</th>\n",
              "      <td>Cannot Figure it Out Have no idea how to play this game the directions don  make sense to us</td>\n",
              "    </tr>\n",
              "    <tr>\n",
              "      <th>49998</th>\n",
              "      <td>Great bulbs great price Great bulbs great price for replacing those costly light bulbs that like to burn out all the time Have had them working  few months and good so far</td>\n",
              "    </tr>\n",
              "  </tbody>\n",
              "</table>\n",
              "</div>"
            ]
          },
          "metadata": {
            "tags": []
          },
          "execution_count": 18
        }
      ]
    },
    {
      "cell_type": "code",
      "metadata": {
        "id": "uU5qpwTsgS_q",
        "colab_type": "code",
        "colab": {
          "base_uri": "https://localhost:8080/",
          "height": 139
        },
        "outputId": "458d7111-a868-47de-b20f-ddf6ff996eeb"
      },
      "source": [
        "import nltk\n",
        "from nltk.tokenize import word_tokenize\n",
        "from nltk.stem.wordnet import WordNetLemmatizer\n",
        "from nltk.sentiment.vader import SentimentIntensityAnalyzer\n",
        "from nltk.corpus import wordnet\n",
        "row_num=0\n",
        "lemmatizer = WordNetLemmatizer()\n",
        "def get_wordnet_pos(treebank_tag):\n",
        "    if treebank_tag.startswith('J'):\n",
        "        return wordnet.ADJ\n",
        "    elif treebank_tag.startswith('V'):\n",
        "        return wordnet.VERB\n",
        "    elif treebank_tag.startswith('N'):\n",
        "        return wordnet.NOUN\n",
        "    \n",
        "    elif treebank_tag.startswith('R'):\n",
        "        return wordnet.ADV\n",
        "    else:\n",
        "        return  wordnet.VERB # for easy if-statement \n",
        "    \n",
        "def applyLemmatization(doc):\n",
        "        global row_num\n",
        "        row_num+=1\n",
        "        if row_num%4000 == 0:\n",
        "            print(row_num)\n",
        "        elif row_num%500 == 0:\n",
        "            print(row_num,end='..')\n",
        "        return \" \".join([lemmatizer.lemmatize(t[0].lower(),pos=get_wordnet_pos(t[1])) for t in nltk.pos_tag(word_tokenize(doc))])\n",
        "\n",
        "# df['review']=df['review'].apply(applyLemmatization)\n",
        "# df['review'].to_pickle(\"data/processed/lemmatized.pkl\")\n",
        "df['review']=pd.read_pickle(data_path+\"processed/lemmatized.pkl\")\n",
        "df['review'].head()"
      ],
      "execution_count": 22,
      "outputs": [
        {
          "output_type": "execute_result",
          "data": {
            "text/plain": [
              "0    five star good fun                                                                                                                                                                                                                                                                                                                                                                                                                                                                                                                                                                                                                                                                                                                                                                                                                                                                                                                                                                                                                                                                                                        \n",
              "1    close but no cigar this be great kit and have most of what you need however the platic in my inside come warped and the handle lock in so firmly you have to yank them to get them out                                                                                                                                                                                                                                                                                                                                                                                                                                                                                                                                                                                                                                                                                                                                                                                                                                                                                                                                    \n",
              "2    beautiful realistic graphic ve purchase several of these bead bookmark with different image this be realistic horse which be important to me price be right come in protective plastic sleeve to keep it from bend in shipment will buy more as stock stuffer                                                                                                                                                                                                                                                                                                                                                                                                                                                                                                                                                                                                                                                                                                                                                                                                                                                             \n",
              "3    three star ok                                                                                                                                                                                                                                                                                                                                                                                                                                                                                                                                                                                                                                                                                                                                                                                                                                                                                                                                                                                                                                                                                                             \n",
              "4    the new model glove be no match to old model very very poor quality purchase my first pair of harbinger glove in they have very high rating which be still carry over for the bad review to have an impact so beware and use them time week now for year these be very heavy duty gloves out of the box be very pleased with the quality they be well make with the usage have no problem and they show very little wear recently lose one of the glove and re order the same model number and size be very surprised when the new glove come and compare them to my remain glove this new glove be about an inch small in length and in size about half size small much thinner pad poor stitching and lack the reinforcement of the early glove it be more of poorly make bicycle glove the finger be much short on the first set of dumbbell curl about hour after receive them the side of the glove split along the leather and fabric seam for about inch have return them to amazon be now desperately look for the lose glove harbinger need to change the model number and reduce the price on these to less than\n",
              "Name: review, dtype: object"
            ]
          },
          "metadata": {
            "tags": []
          },
          "execution_count": 22
        }
      ]
    },
    {
      "cell_type": "code",
      "metadata": {
        "id": "d_tcosnDkwHr",
        "colab_type": "code",
        "colab": {
          "base_uri": "https://localhost:8080/",
          "height": 128
        },
        "outputId": "4f7a1c0d-ed78-46eb-8418-1d764b299b12"
      },
      "source": [
        "train = df[:len(df_train)]\n",
        "test = df[len(df_train):].drop(\"label\", axis= 1)\n",
        "\n",
        "train.head(2)"
      ],
      "execution_count": 23,
      "outputs": [
        {
          "output_type": "execute_result",
          "data": {
            "text/plain": [
              "   key  \\\n",
              "0  0     \n",
              "1  1     \n",
              "\n",
              "   label  \\\n",
              "0  5.0     \n",
              "1  3.0     \n",
              "\n",
              "                         product_id  \\\n",
              "0  2f3f32df46c949fd84a8a4a0c1b902c2   \n",
              "1  b6c7faacaada4de3a007d1bca3e7efe3   \n",
              "\n",
              "       review_summary  \\\n",
              "0  Five Stars           \n",
              "1  Close but no cigar   \n",
              "\n",
              "                                                                                                                                                                 review_text  \\\n",
              "0  Good fun.                                                                                                                                                                   \n",
              "1  This is a a great kit and has most of what you need. However the platic in my inside came warped, and the handle lock in so firmly you have to yank them to get them out.   \n",
              "\n",
              "                                                                                                                                                                                   review  \n",
              "0  five star good fun                                                                                                                                                                      \n",
              "1  close but no cigar this be great kit and have most of what you need however the platic in my inside come warped and the handle lock in so firmly you have to yank them to get them out  "
            ],
            "text/html": [
              "<div>\n",
              "<style scoped>\n",
              "    .dataframe tbody tr th:only-of-type {\n",
              "        vertical-align: middle;\n",
              "    }\n",
              "\n",
              "    .dataframe tbody tr th {\n",
              "        vertical-align: top;\n",
              "    }\n",
              "\n",
              "    .dataframe thead th {\n",
              "        text-align: right;\n",
              "    }\n",
              "</style>\n",
              "<table border=\"1\" class=\"dataframe\">\n",
              "  <thead>\n",
              "    <tr style=\"text-align: right;\">\n",
              "      <th></th>\n",
              "      <th>key</th>\n",
              "      <th>label</th>\n",
              "      <th>product_id</th>\n",
              "      <th>review_summary</th>\n",
              "      <th>review_text</th>\n",
              "      <th>review</th>\n",
              "    </tr>\n",
              "  </thead>\n",
              "  <tbody>\n",
              "    <tr>\n",
              "      <th>0</th>\n",
              "      <td>0</td>\n",
              "      <td>5.0</td>\n",
              "      <td>2f3f32df46c949fd84a8a4a0c1b902c2</td>\n",
              "      <td>Five Stars</td>\n",
              "      <td>Good fun.</td>\n",
              "      <td>five star good fun</td>\n",
              "    </tr>\n",
              "    <tr>\n",
              "      <th>1</th>\n",
              "      <td>1</td>\n",
              "      <td>3.0</td>\n",
              "      <td>b6c7faacaada4de3a007d1bca3e7efe3</td>\n",
              "      <td>Close but no cigar</td>\n",
              "      <td>This is a a great kit and has most of what you need. However the platic in my inside came warped, and the handle lock in so firmly you have to yank them to get them out.</td>\n",
              "      <td>close but no cigar this be great kit and have most of what you need however the platic in my inside come warped and the handle lock in so firmly you have to yank them to get them out</td>\n",
              "    </tr>\n",
              "  </tbody>\n",
              "</table>\n",
              "</div>"
            ]
          },
          "metadata": {
            "tags": []
          },
          "execution_count": 23
        }
      ]
    },
    {
      "cell_type": "code",
      "metadata": {
        "id": "VWIs0NRUk_i8",
        "colab_type": "code",
        "colab": {
          "base_uri": "https://localhost:8080/",
          "height": 388
        },
        "outputId": "30e0fe3a-b98c-4075-baf9-fdd5e362b054"
      },
      "source": [
        "print(train['label'].value_counts()) # very balanced data\n",
        "\n",
        "train['label'].hist()"
      ],
      "execution_count": 24,
      "outputs": [
        {
          "output_type": "stream",
          "text": [
            "4.0    6000\n",
            "2.0    6000\n",
            "1.0    6000\n",
            "3.0    6000\n",
            "5.0    6000\n",
            "Name: label, dtype: int64\n"
          ],
          "name": "stdout"
        },
        {
          "output_type": "execute_result",
          "data": {
            "text/plain": [
              "<matplotlib.axes._subplots.AxesSubplot at 0x2b6c9320>"
            ]
          },
          "metadata": {
            "tags": []
          },
          "execution_count": 24
        },
        {
          "output_type": "display_data",
          "data": {
            "text/plain": [
              "<Figure size 432x288 with 1 Axes>"
            ],
            "image/png": "[encoded data removed]"
          },
          "metadata": {
            "tags": [],
            "needs_background": "light"
          }
        }
      ]
    },
    {
      "cell_type": "code",
      "metadata": {
        "id": "uIqJd8tSlAvP",
        "colab_type": "code",
        "colab": {
          "base_uri": "https://localhost:8080/",
          "height": 145
        },
        "outputId": "384d71d4-af35-4848-a328-5585a45becd9"
      },
      "source": [
        "#converting label to hot encoding\n",
        "train = pd.get_dummies(train, columns = ['label'])\n",
        "train.head(2)"
      ],
      "execution_count": 25,
      "outputs": [
        {
          "output_type": "execute_result",
          "data": {
            "text/plain": [
              "   key  \\\n",
              "0  0     \n",
              "1  1     \n",
              "\n",
              "                         product_id  \\\n",
              "0  2f3f32df46c949fd84a8a4a0c1b902c2   \n",
              "1  b6c7faacaada4de3a007d1bca3e7efe3   \n",
              "\n",
              "       review_summary  \\\n",
              "0  Five Stars           \n",
              "1  Close but no cigar   \n",
              "\n",
              "                                                                                                                                                                 review_text  \\\n",
              "0  Good fun.                                                                                                                                                                   \n",
              "1  This is a a great kit and has most of what you need. However the platic in my inside came warped, and the handle lock in so firmly you have to yank them to get them out.   \n",
              "\n",
              "                                                                                                                                                                                   review  \\\n",
              "0  five star good fun                                                                                                                                                                       \n",
              "1  close but no cigar this be great kit and have most of what you need however the platic in my inside come warped and the handle lock in so firmly you have to yank them to get them out   \n",
              "\n",
              "   label_1.0  \\\n",
              "0  0           \n",
              "1  0           \n",
              "\n",
              "   label_2.0  \\\n",
              "0  0           \n",
              "1  0           \n",
              "\n",
              "   label_3.0  \\\n",
              "0  0           \n",
              "1  1           \n",
              "\n",
              "   label_4.0  \\\n",
              "0  0           \n",
              "1  0           \n",
              "\n",
              "   label_5.0  \n",
              "0  1          \n",
              "1  0          "
            ],
            "text/html": [
              "<div>\n",
              "<style scoped>\n",
              "    .dataframe tbody tr th:only-of-type {\n",
              "        vertical-align: middle;\n",
              "    }\n",
              "\n",
              "    .dataframe tbody tr th {\n",
              "        vertical-align: top;\n",
              "    }\n",
              "\n",
              "    .dataframe thead th {\n",
              "        text-align: right;\n",
              "    }\n",
              "</style>\n",
              "<table border=\"1\" class=\"dataframe\">\n",
              "  <thead>\n",
              "    <tr style=\"text-align: right;\">\n",
              "      <th></th>\n",
              "      <th>key</th>\n",
              "      <th>product_id</th>\n",
              "      <th>review_summary</th>\n",
              "      <th>review_text</th>\n",
              "      <th>review</th>\n",
              "      <th>label_1.0</th>\n",
              "      <th>label_2.0</th>\n",
              "      <th>label_3.0</th>\n",
              "      <th>label_4.0</th>\n",
              "      <th>label_5.0</th>\n",
              "    </tr>\n",
              "  </thead>\n",
              "  <tbody>\n",
              "    <tr>\n",
              "      <th>0</th>\n",
              "      <td>0</td>\n",
              "      <td>2f3f32df46c949fd84a8a4a0c1b902c2</td>\n",
              "      <td>Five Stars</td>\n",
              "      <td>Good fun.</td>\n",
              "      <td>five star good fun</td>\n",
              "      <td>0</td>\n",
              "      <td>0</td>\n",
              "      <td>0</td>\n",
              "      <td>0</td>\n",
              "      <td>1</td>\n",
              "    </tr>\n",
              "    <tr>\n",
              "      <th>1</th>\n",
              "      <td>1</td>\n",
              "      <td>b6c7faacaada4de3a007d1bca3e7efe3</td>\n",
              "      <td>Close but no cigar</td>\n",
              "      <td>This is a a great kit and has most of what you need. However the platic in my inside came warped, and the handle lock in so firmly you have to yank them to get them out.</td>\n",
              "      <td>close but no cigar this be great kit and have most of what you need however the platic in my inside come warped and the handle lock in so firmly you have to yank them to get them out</td>\n",
              "      <td>0</td>\n",
              "      <td>0</td>\n",
              "      <td>1</td>\n",
              "      <td>0</td>\n",
              "      <td>0</td>\n",
              "    </tr>\n",
              "  </tbody>\n",
              "</table>\n",
              "</div>"
            ]
          },
          "metadata": {
            "tags": []
          },
          "execution_count": 25
        }
      ]
    },
    {
      "cell_type": "code",
      "metadata": {
        "id": "Ij1uISoplDfq",
        "colab_type": "code",
        "colab": {}
      },
      "source": [
        "# I'm using GLoVe word vectors to get pretrained word embeddings\n",
        "# max number of words from review to use\n",
        "# max number of unique words ( total here we have around 21300) \n",
        "max_features = 21000\n",
        "maxlen = 300\n",
        "\n",
        "# File path\n",
        "# embedding_file = './nn_assets/glove.twitter.27B.25d.txt'\n",
        "embedding_file = base_path+'/nn_assets/glove.twitter.27B.200d.txt'\n",
        "embed_size = 200  # use accroding to file used ( 25 for 25D)\n",
        "\n",
        "\n",
        "# read in embeddings\n",
        "def get_coefs(word,*arr): return word, np.asarray(arr, dtype='float32')\n",
        "\n",
        "embeddings_index = dict(get_coefs(*o.strip().split()) for o in open(embedding_file,encoding=\"utf8\"))"
      ],
      "execution_count": 28,
      "outputs": []
    },
    {
      "cell_type": "code",
      "metadata": {
        "id": "wmtZ5KdGlb0O",
        "colab_type": "code",
        "colab": {
          "base_uri": "https://localhost:8080/",
          "height": 34
        },
        "outputId": "1cf90850-1d37-4f26-c758-030b546b31ee"
      },
      "source": [
        "X=train[['review','label_1.0', 'label_2.0', 'label_3.0', 'label_4.0', 'label_5.0']]\n",
        "y=train['label_1.0']\n",
        "\n",
        "#TODO: can we train with full data and only check using CrossValidation from model\n",
        "from sklearn.model_selection import train_test_split\n",
        "X_train,X_test,y_train,y_test = train_test_split(X,y,test_size=0.1) # only care about X \n",
        "\n",
        "X_train.shape,X_test.shape"
      ],
      "execution_count": 29,
      "outputs": [
        {
          "output_type": "execute_result",
          "data": {
            "text/plain": [
              "((27000, 6), (3000, 6))"
            ]
          },
          "metadata": {
            "tags": []
          },
          "execution_count": 29
        }
      ]
    },
    {
      "cell_type": "code",
      "metadata": {
        "id": "-iqoEU0hlsyX",
        "colab_type": "code",
        "colab": {}
      },
      "source": [
        "class_names = ['label_1.0', 'label_2.0', 'label_3.0', 'label_4.0', 'label_5.0']\n",
        "y_train = X_train[class_names].values"
      ],
      "execution_count": 30,
      "outputs": []
    },
    {
      "cell_type": "code",
      "metadata": {
        "id": "6rBmlv17luRs",
        "colab_type": "code",
        "colab": {}
      },
      "source": [
        "train_samp=X_train\n",
        "test_samp=X_test\n",
        "tokenizer = Tokenizer(num_words=max_features)\n",
        "tokenizer.fit_on_texts(list(train_samp['review'].values))\n",
        "X_train = tokenizer.texts_to_sequences(train_samp['review'].values) # TODO : we can fit on all data\n",
        "X_test = tokenizer.texts_to_sequences(test_samp['review'].values)\n",
        "x_train = pad_sequences(X_train, maxlen = maxlen)\n",
        "x_test = pad_sequences(X_test, maxlen = maxlen)"
      ],
      "execution_count": 31,
      "outputs": []
    },
    {
      "cell_type": "code",
      "metadata": {
        "id": "HHFBlFdTlvwo",
        "colab_type": "code",
        "colab": {
          "base_uri": "https://localhost:8080/",
          "height": 34
        },
        "outputId": "2ead96ef-28f6-4513-bc86-5742c0c46fa4"
      },
      "source": [
        "word_index = tokenizer.word_index\n",
        "\n",
        "nb_words = min(max_features, len(word_index))\n",
        "# create a zeros matrix of the correct dimensions \n",
        "embedding_matrix = np.zeros((nb_words, embed_size))\n",
        "print(\"matrix-shape:\",embedding_matrix.shape)\n",
        "missed = []\n",
        "for word, i in word_index.items():\n",
        "    if i >= max_features: break\n",
        "    embedding_vector = embeddings_index.get(word)\n",
        "    if embedding_vector is not None:\n",
        "        embedding_matrix[i] = embedding_vector\n",
        "    else:\n",
        "        missed.append(word)"
      ],
      "execution_count": 32,
      "outputs": [
        {
          "output_type": "stream",
          "text": [
            "matrix-shape: (21000, 200)\n"
          ],
          "name": "stdout"
        }
      ]
    },
    {
      "cell_type": "code",
      "metadata": {
        "id": "RZrpVOiGlxsn",
        "colab_type": "code",
        "colab": {
          "base_uri": "https://localhost:8080/",
          "height": 204
        },
        "outputId": "7a15ed00-f049-40b4-b7ad-133bc3df1548"
      },
      "source": [
        "print(\"missed word from embeddings:\",len(missed))\n",
        "missed[:10]"
      ],
      "execution_count": 33,
      "outputs": [
        {
          "output_type": "stream",
          "text": [
            "missed word from embeddings: 3582\n"
          ],
          "name": "stdout"
        },
        {
          "output_type": "execute_result",
          "data": {
            "text/plain": [
              "['picturemate',\n",
              " 'manduka',\n",
              " 'moleskines',\n",
              " 'perforate',\n",
              " 'esbit',\n",
              " 'aerobie',\n",
              " 'papermate',\n",
              " 'labeler',\n",
              " 'kjbrk',\n",
              " 'jmfvy']"
            ]
          },
          "metadata": {
            "tags": []
          },
          "execution_count": 33
        }
      ]
    },
    {
      "cell_type": "code",
      "metadata": {
        "id": "FrqyoQCumsKy",
        "colab_type": "code",
        "colab": {
          "base_uri": "https://localhost:8080/",
          "height": 564
        },
        "outputId": "f2ded902-56c4-4658-d2e8-3638ea541842"
      },
      "source": [
        "inp = Input(shape = (maxlen,))\n",
        "x = Embedding(max_features, embed_size, weights = [embedding_matrix], trainable = True)(inp)\n",
        "x = SpatialDropout1D(0.5)(x)\n",
        "x = Bidirectional(LSTM(40, return_sequences=True))(x)\n",
        "x = Bidirectional(GRU(40, return_sequences=True))(x)\n",
        "avg_pool = GlobalAveragePooling1D()(x)\n",
        "max_pool = GlobalMaxPooling1D()(x)\n",
        "conc = concatenate([avg_pool, max_pool])\n",
        "outp = Dense(5, activation = 'sigmoid')(conc)\n",
        "\n",
        "model = Model(inputs = inp, outputs = outp)\n",
        "# patience is how many epochs to wait to see if val_loss will improve again.\n",
        "earlystop = EarlyStopping(monitor = 'val_loss', min_delta = 0, patience = 3)\n",
        "checkpoint = ModelCheckpoint(monitor = 'val_loss', save_best_only = True, filepath = 'yelp_lstm_gru_weights1.hdf5')\n",
        "model.compile(loss = 'binary_crossentropy', optimizer = 'adam', metrics = ['accuracy'])\n",
        "model.summary()"
      ],
      "execution_count": 34,
      "outputs": [
        {
          "output_type": "stream",
          "text": [
            "WARNING: Logging before flag parsing goes to stderr.\n",
            "W0624 14:43:56.907030 10688 deprecation.py:323] From C:\\Users\\pateash\\AppData\\Roaming\\Python\\Python37\\site-packages\\tensorflow\\python\\ops\\nn_impl.py:180: add_dispatch_support.<locals>.wrapper (from tensorflow.python.ops.array_ops) is deprecated and will be removed in a future version.\n",
            "Instructions for updating:\n",
            "Use tf.where in 2.0, which has the same broadcast rule as np.where\n"
          ],
          "name": "stderr"
        },
        {
          "output_type": "stream",
          "text": [
            "Model: \"model_1\"\n",
            "__________________________________________________________________________________________________\n",
            "Layer (type)                    Output Shape         Param #     Connected to                     \n",
            "==================================================================================================\n",
            "input_1 (InputLayer)            (None, 300)          0                                            \n",
            "__________________________________________________________________________________________________\n",
            "embedding_1 (Embedding)         (None, 300, 200)     4200000     input_1[0][0]                    \n",
            "__________________________________________________________________________________________________\n",
            "spatial_dropout1d_1 (SpatialDro (None, 300, 200)     0           embedding_1[0][0]                \n",
            "__________________________________________________________________________________________________\n",
            "bidirectional_1 (Bidirectional) (None, 300, 80)      77120       spatial_dropout1d_1[0][0]        \n",
            "__________________________________________________________________________________________________\n",
            "bidirectional_2 (Bidirectional) (None, 300, 80)      29040       bidirectional_1[0][0]            \n",
            "__________________________________________________________________________________________________\n",
            "global_average_pooling1d_1 (Glo (None, 80)           0           bidirectional_2[0][0]            \n",
            "__________________________________________________________________________________________________\n",
            "global_max_pooling1d_1 (GlobalM (None, 80)           0           bidirectional_2[0][0]            \n",
            "__________________________________________________________________________________________________\n",
            "concatenate_1 (Concatenate)     (None, 160)          0           global_average_pooling1d_1[0][0] \n",
            "                                                                 global_max_pooling1d_1[0][0]     \n",
            "__________________________________________________________________________________________________\n",
            "dense_1 (Dense)                 (None, 5)            805         concatenate_1[0][0]              \n",
            "==================================================================================================\n",
            "Total params: 4,306,965\n",
            "Trainable params: 4,306,965\n",
            "Non-trainable params: 0\n",
            "__________________________________________________________________________________________________\n"
          ],
          "name": "stdout"
        }
      ]
    },
    {
      "cell_type": "code",
      "metadata": {
        "colab_type": "code",
        "id": "8p3Tbx8cWEFA",
        "colab": {}
      },
      "source": [
        "# Load the TensorBoard notebook extension\n",
        "%load_ext tensorboard\n"
      ],
      "execution_count": 35,
      "outputs": []
    },
    {
      "cell_type": "code",
      "metadata": {
        "colab_type": "code",
        "id": "lpUO9HqUKP6z",
        "colab": {
          "base_uri": "https://localhost:8080/",
          "height": 241
        },
        "outputId": "339c7324-1366-4682-8d7e-ce14e7fdca79"
      },
      "source": [
        "import datetime\n",
        "logdir = os.path.join(\"logs\", datetime.datetime.now().strftime(\"%Y%m%d-%H%M%S\"))\n",
        "tensorboard_callback = keras.callbacks.TensorBoard(logdir, histogram_freq=1)\n",
        "model.fit(x_train, y_train, batch_size = 512, epochs = 4, validation_split = .1,\n",
        "          callbacks=[earlystop, checkpoint,tensorboard_callback])"
      ],
      "execution_count": 40,
      "outputs": [
        {
          "output_type": "stream",
          "text": [
            "Train on 24300 samples, validate on 2700 samples\n",
            "Epoch 1/4\n",
            "24300/24300 [==============================] - 746s 31ms/step - loss: 0.5171 - accuracy: 0.7951 - val_loss: 0.4861 - val_accuracy: 0.8000\n"
          ],
          "name": "stdout"
        },
        {
          "output_type": "stream",
          "text": [
            "W0624 15:02:12.913026 10688 deprecation_wrapper.py:119] From C:\\Users\\pateash\\AppData\\Roaming\\Python\\Python37\\site-packages\\keras\\callbacks\\tensorboard_v1.py:343: The name tf.Summary is deprecated. Please use tf.compat.v1.Summary instead.\n",
            "\n"
          ],
          "name": "stderr"
        },
        {
          "output_type": "stream",
          "text": [
            "Epoch 2/4\n",
            "24300/24300 [==============================] - 767s 32ms/step - loss: 0.4488 - accuracy: 0.8078 - val_loss: 0.3908 - val_accuracy: 0.8233\n",
            "Epoch 3/4\n",
            "24300/24300 [==============================] - 886s 36ms/step - loss: 0.3649 - accuracy: 0.8392 - val_loss: 0.3256 - val_accuracy: 0.8544\n",
            "Epoch 4/4\n",
            "24300/24300 [==============================] - 714s 29ms/step - loss: 0.3206 - accuracy: 0.8588 - val_loss: 0.3070 - val_accuracy: 0.8614\n"
          ],
          "name": "stdout"
        },
        {
          "output_type": "execute_result",
          "data": {
            "text/plain": [
              "<keras.callbacks.callbacks.History at 0x8bd4dba8>"
            ]
          },
          "metadata": {
            "tags": []
          },
          "execution_count": 40
        }
      ]
    },
    {
      "cell_type": "code",
      "metadata": {
        "id": "Xj_NbvGLm7pX",
        "colab_type": "code",
        "colab": {}
      },
      "source": [
        "%tensorboard --logdir \"./logs/\""
      ],
      "execution_count": null,
      "outputs": []
    },
    {
      "cell_type": "code",
      "metadata": {
        "id": "mF9bODEeoFLl",
        "colab_type": "code",
        "colab": {}
      },
      "source": [
        "model.save(\"nn_accuracy_epoch_40_200d_overnight.hdf5\")"
      ],
      "execution_count": 46,
      "outputs": []
    },
    {
      "cell_type": "code",
      "metadata": {
        "id": "alEuB4IBnMuK",
        "colab_type": "code",
        "colab": {
          "base_uri": "https://localhost:8080/",
          "height": 34
        },
        "outputId": "7b453696-2cad-4b5b-e32f-a67c988b582d"
      },
      "source": [
        "y_test = model.predict([x_test], batch_size=1024, verbose = 1)"
      ],
      "execution_count": 47,
      "outputs": [
        {
          "output_type": "stream",
          "text": [
            "3000/3000 [==============================] - 23s 8ms/step\n"
          ],
          "name": "stdout"
        }
      ]
    },
    {
      "cell_type": "code",
      "metadata": {
        "id": "YkxGGl5eoI3L",
        "colab_type": "code",
        "colab": {}
      },
      "source": [
        "test = tokenizer.texts_to_sequences(test['review'].values)\n",
        "test_final = pad_sequences(test, maxlen = maxlen)"
      ],
      "execution_count": 48,
      "outputs": []
    },
    {
      "cell_type": "code",
      "metadata": {
        "id": "Oawia48aoKdB",
        "colab_type": "code",
        "colab": {
          "base_uri": "https://localhost:8080/",
          "height": 51
        },
        "outputId": "c8634f7d-0890-44d2-ece3-464158e10b74"
      },
      "source": [
        "evaluation_score=model.evaluate(x_test, test_samp[class_names].values, verbose = 1, batch_size=1024)\n",
        "evaluation_score"
      ],
      "execution_count": 49,
      "outputs": [
        {
          "output_type": "stream",
          "text": [
            "3000/3000 [==============================] - 20s 7ms/step\n"
          ],
          "name": "stdout"
        },
        {
          "output_type": "execute_result",
          "data": {
            "text/plain": [
              "[0.3028712814648946, 0.8652002215385437]"
            ]
          },
          "metadata": {
            "tags": []
          },
          "execution_count": 49
        }
      ]
    },
    {
      "cell_type": "code",
      "metadata": {
        "id": "vnzPSwi5oMgg",
        "colab_type": "code",
        "colab": {
          "base_uri": "https://localhost:8080/",
          "height": 221
        },
        "outputId": "dff80dda-e12a-469a-9889-b424b9c2c0c6"
      },
      "source": [
        "v = metrics.classification_report(np.argmax(test_samp[class_names].values, axis = 1),np.argmax(y_test, axis = 1))\n",
        "print(v)"
      ],
      "execution_count": 50,
      "outputs": [
        {
          "output_type": "stream",
          "text": [
            "              precision    recall  f1-score   support\n",
            "\n",
            "           0       0.58      0.82      0.68       626\n",
            "           1       0.46      0.40      0.43       595\n",
            "           2       0.67      0.42      0.52       570\n",
            "           3       0.60      0.65      0.62       606\n",
            "           4       0.82      0.81      0.81       603\n",
            "\n",
            "    accuracy                           0.62      3000\n",
            "   macro avg       0.63      0.62      0.61      3000\n",
            "weighted avg       0.63      0.62      0.62      3000\n",
            "\n"
          ],
          "name": "stdout"
        }
      ]
    },
    {
      "cell_type": "code",
      "metadata": {
        "id": "Q7YHDMHMoOkB",
        "colab_type": "code",
        "colab": {
          "base_uri": "https://localhost:8080/",
          "height": 312
        },
        "outputId": "fed6e40c-9586-4ec1-d629-54df8f2b9286"
      },
      "source": [
        "import scikitplot as skplt\n",
        "\n",
        "skplt.metrics.plot_confusion_matrix(np.argmax(test_samp[class_names].values, axis = 1),np.argmax(y_test, axis = 1))"
      ],
      "execution_count": 51,
      "outputs": [
        {
          "output_type": "execute_result",
          "data": {
            "text/plain": [
              "<matplotlib.axes._subplots.AxesSubplot at 0x864ca208>"
            ]
          },
          "metadata": {
            "tags": []
          },
          "execution_count": 51
        },
        {
          "output_type": "display_data",
          "data": {
            "text/plain": [
              "<Figure size 432x288 with 2 Axes>"
            ],
            "image/png": "[encoded data removed]"
          },
          "metadata": {
            "tags": [],
            "needs_background": "light"
          }
        }
      ]
    },
    {
      "cell_type": "code",
      "metadata": {
        "id": "VykfOtFQoTER",
        "colab_type": "code",
        "colab": {
          "base_uri": "https://localhost:8080/",
          "height": 221
        },
        "outputId": "856acc6b-a71b-4933-ba33-bba683738d93"
      },
      "source": [
        "final_preds=model.predict([test_final],batch_size=1024,verbose=1)\n",
        "\n",
        "final_preds[:10]"
      ],
      "execution_count": 52,
      "outputs": [
        {
          "output_type": "stream",
          "text": [
            "19999/19999 [==============================] - 127s 6ms/step\n"
          ],
          "name": "stdout"
        },
        {
          "output_type": "execute_result",
          "data": {
            "text/plain": [
              "array([[0.0127584 , 0.02495238, 0.04654434, 0.87639153, 0.09769914],\n",
              "       [0.00763568, 0.00951347, 0.02500698, 0.31323874, 0.75735974],\n",
              "       [0.24102592, 0.2904685 , 0.1669265 , 0.08996072, 0.02144748],\n",
              "       [0.01305145, 0.04017341, 0.10758182, 0.7079123 , 0.13598803],\n",
              "       [0.00785509, 0.02415878, 0.23373955, 0.28907394, 0.38299093],\n",
              "       [0.6269916 , 0.37245035, 0.1408996 , 0.02737004, 0.00328672],\n",
              "       [0.04209501, 0.21780363, 0.6306529 , 0.18353829, 0.01005337],\n",
              "       [0.00946236, 0.01200089, 0.05787283, 0.2899561 , 0.7053147 ],\n",
              "       [0.27395585, 0.3306721 , 0.26357645, 0.02834907, 0.00836906],\n",
              "       [0.03423372, 0.14602375, 0.46444482, 0.3406404 , 0.01867381]],\n",
              "      dtype=float32)"
            ]
          },
          "metadata": {
            "tags": []
          },
          "execution_count": 52
        }
      ]
    },
    {
      "cell_type": "code",
      "metadata": {
        "id": "Qp5b33uhoVj7",
        "colab_type": "code",
        "colab": {}
      },
      "source": [
        "import pickle\n",
        "\n",
        "def saveClassifierNN(model,filename):\n",
        "    #score rounded to 3 places\n",
        "    filename=filename+\"_\"+\"loss\"+'_'+str(evaluation_score[0])+\"_accuracy_\"+str(evaluation_score[1])\n",
        "    model.save(\"./models/\"+filename)\n",
        "\n",
        "\n",
        "# generating result\n",
        "def generateOutputFile(classifier_name):\n",
        "    score=\"loss\"+'_'+str(evaluation_score[0])+\"_accuracy_\"+str(evaluation_score[1])\n",
        "    shape=\"_\"+str(max_features) # features used\n",
        "    \n",
        "    output=np.argmax(final_preds,axis=1)+1 # class output\n",
        "    key=pd.read_csv(\"./data/test_data.csv\",usecols=['key'])\n",
        "    result=pd.DataFrame(output,columns=['prediction'])\n",
        "    assert(key.shape[0]==19999)\n",
        "    assert(len(final_preds==19999))\n",
        "    result=pd.concat([key,result],axis=1)\n",
        "    fileName=\"output/result_\"+classifier_name+\"_\"+vectType+shape+score+\".csv\"\n",
        "    result.to_csv(fileName,index = False)\n",
        "    print(\"Generated: \"+fileName)"
      ],
      "execution_count": 53,
      "outputs": []
    },
    {
      "cell_type": "code",
      "metadata": {
        "id": "vuckeIZIoXxE",
        "colab_type": "code",
        "colab": {}
      },
      "source": [
        "\n",
        "saveClassifierNN(model,'neural_network_multiclass_lemmatization_test')\n",
        "\n",
        "generateOutputFile('neural_network_multiclass_lemmatization_test')"
      ],
      "execution_count": null,
      "outputs": []
    },
    {
      "cell_type": "code",
      "metadata": {
        "id": "d-wHsLyh5qXz",
        "colab_type": "code",
        "colab": {}
      },
      "source": [
        ""
      ],
      "execution_count": null,
      "outputs": []
    }
  ]
}